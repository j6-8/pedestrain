{
 "cells": [
  {
   "cell_type": "markdown",
   "metadata": {},
   "source": [
    "## Pedestrian detection\n"
   ]
  },
  {
   "cell_type": "markdown",
   "metadata": {},
   "source": [
    "## Dataset contains images of pedestrians and images with no pedestrians"
   ]
  },
  {
   "cell_type": "markdown",
   "metadata": {},
   "source": [
    "## Importing libraries"
   ]
  },
  {
   "cell_type": "code",
   "execution_count": 20,
   "metadata": {},
   "outputs": [],
   "source": [
    "import os\n",
    "import pandas as pd\n",
    "import numpy as np \n",
    "import seaborn as sns\n",
    "import matplotlib.pyplot as plt \n",
    "import warnings\n",
    "warnings.filterwarnings('ignore')\n",
    "\n",
    "from tensorflow.keras.preprocessing.image import ImageDataGenerator\n",
    "from tensorflow.keras.models import Sequential\n",
    "from tensorflow.keras.layers import Activation, Dropout, Flatten, Dense, Conv2D, MaxPooling2D\n",
    "from tensorflow.keras.callbacks import EarlyStopping\n",
    "\n",
    "%matplotlib inline"
   ]
  },
  {
   "cell_type": "markdown",
   "metadata": {},
   "source": [
    "## Loading the dataset"
   ]
  },
  {
   "cell_type": "markdown",
   "metadata": {},
   "source": [
    "### Resizing the images"
   ]
  },
  {
   "cell_type": "code",
   "execution_count": 6,
   "metadata": {},
   "outputs": [],
   "source": [
    "import cv2\n",
    "import os\n",
    "\n",
    "datapath = 'C:\\\\Users\\\\Downloads\\\\Padestrian\\\\data\\\\train\\\\'\n",
    "files_path = os.listdir(datapath)\n",
    "\n",
    "for i in files_path:\n",
    "    path_final = 'C:\\\\Users\\\\Downloads\\\\Padestrian\\\\data\\\\train\\\\' + i + '\\\\'\n",
    "    final = os.listdir(path_final)\n",
    "    for j in final:\n",
    "        data = path_final + j\n",
    "        img = cv2.imread(data)\n",
    "        image = cv2.resize(img, (128,128))\n",
    "        cv2.imwrite(data,image)\n",
    "\n"
   ]
  },
  {
   "cell_type": "code",
   "execution_count": 7,
   "metadata": {},
   "outputs": [],
   "source": [
    "import cv2\n",
    "import os\n",
    "\n",
    "datapath = 'C:\\\\Users\\\\Downloads\\\\Padestrian\\\\data\\\\validation\\\\'\n",
    "files_path = os.listdir(datapath)\n",
    "\n",
    "for i in files_path:\n",
    "    path_final = 'C:\\\\Users\\\\Downloads\\\\Padestrian\\\\data\\\\validation\\\\' + i + '\\\\'\n",
    "    final = os.listdir(path_final)\n",
    "    for j in final:\n",
    "        data = path_final + j\n",
    "        img = cv2.imread(data)\n",
    "        image = cv2.resize(img, (128,128))\n",
    "        cv2.imwrite(data,image)\n"
   ]
  },
  {
   "cell_type": "code",
   "execution_count": 2,
   "metadata": {},
   "outputs": [],
   "source": [
    "data = 'C:\\\\Users\\\\Downloads\\\\Padestrian\\\\data'\n",
    "test = data+'\\\\validation\\\\'\n",
    "train = data+'\\\\train\\\\'\n"
   ]
  },
  {
   "cell_type": "markdown",
   "metadata": {},
   "source": [
    "## Now, we are using the image data generator function"
   ]
  },
  {
   "cell_type": "code",
   "execution_count": 3,
   "metadata": {},
   "outputs": [],
   "source": [
    "image_shape = (128,128,3)\n",
    "image_gen = ImageDataGenerator(rotation_range=10,\n",
    "                               width_shift_range=0.05,\n",
    "                               height_shift_range=0.05,\n",
    "                               rescale=1/255,\n",
    "                               shear_range=0.2,\n",
    "                               zoom_range=0.2,\n",
    "                               horizontal_flip=True,\n",
    "                               fill_mode='nearest',\n",
    "                              vertical_flip = True)"
   ]
  },
  {
   "cell_type": "markdown",
   "metadata": {},
   "source": [
    "## Building a convolutional neural network model 1"
   ]
  },
  {
   "cell_type": "code",
   "execution_count": 4,
   "metadata": {},
   "outputs": [
    {
     "name": "stdout",
     "output_type": "stream",
     "text": [
      "Model: \"sequential\"\n",
      "_________________________________________________________________\n",
      " Layer (type)                Output Shape              Param #   \n",
      "=================================================================\n",
      " conv2d (Conv2D)             (None, 126, 126, 256)     7168      \n",
      "                                                                 \n",
      " max_pooling2d (MaxPooling2D  (None, 63, 63, 256)      0         \n",
      " )                                                               \n",
      "                                                                 \n",
      " conv2d_1 (Conv2D)           (None, 61, 61, 128)       295040    \n",
      "                                                                 \n",
      " max_pooling2d_1 (MaxPooling  (None, 30, 30, 128)      0         \n",
      " 2D)                                                             \n",
      "                                                                 \n",
      " conv2d_2 (Conv2D)           (None, 28, 28, 64)        73792     \n",
      "                                                                 \n",
      " max_pooling2d_2 (MaxPooling  (None, 14, 14, 64)       0         \n",
      " 2D)                                                             \n",
      "                                                                 \n",
      " dropout (Dropout)           (None, 14, 14, 64)        0         \n",
      "                                                                 \n",
      " flatten (Flatten)           (None, 12544)             0         \n",
      "                                                                 \n",
      " dense (Dense)               (None, 64)                802880    \n",
      "                                                                 \n",
      " dropout_1 (Dropout)         (None, 64)                0         \n",
      "                                                                 \n",
      " dense_1 (Dense)             (None, 2)                 130       \n",
      "                                                                 \n",
      "=================================================================\n",
      "Total params: 1,179,010\n",
      "Trainable params: 1,179,010\n",
      "Non-trainable params: 0\n",
      "_________________________________________________________________\n"
     ]
    }
   ],
   "source": [
    "model = Sequential()\n",
    "model.add(Conv2D(filters=256, kernel_size=(3,3),input_shape=image_shape, activation='relu',))\n",
    "model.add(MaxPooling2D(pool_size=(2, 2)))\n",
    "model.add(Conv2D(filters=128, kernel_size=(3,3),input_shape=image_shape, activation='relu',))\n",
    "model.add(MaxPooling2D(pool_size=(2, 2)))\n",
    "model.add(Conv2D(filters=64, kernel_size=(3,3),input_shape=image_shape, activation='relu',))\n",
    "model.add(MaxPooling2D(pool_size=(2, 2)))\n",
    "model.add(Dropout(0.2))\n",
    "\n",
    "model.add(Flatten())\n",
    "model.add(Dense(64, activation = 'relu'))\n",
    "model.add(Dropout(0.5))\n",
    "\n",
    "model.add(Dense(2, activation = 'sigmoid'))\n",
    "model.compile(loss='categorical_crossentropy',\n",
    "              optimizer='adam',\n",
    "              metrics=['accuracy'])\n",
    "model.summary()"
   ]
  },
  {
   "cell_type": "markdown",
   "metadata": {},
   "source": [
    "### Loading images from memory for training the model and validating the model"
   ]
  },
  {
   "cell_type": "code",
   "execution_count": 11,
   "metadata": {},
   "outputs": [
    {
     "name": "stdout",
     "output_type": "stream",
     "text": [
      "Found 1262 images belonging to 2 classes.\n"
     ]
    }
   ],
   "source": [
    "\n",
    "batch_size=64\n",
    "train_image_gen = image_gen.flow_from_directory(train,\n",
    "                                               target_size= (128,128),\n",
    "                                                \n",
    "                                               batch_size=batch_size,\n",
    "                                               class_mode='categorical')"
   ]
  },
  {
   "cell_type": "code",
   "execution_count": 12,
   "metadata": {},
   "outputs": [
    {
     "name": "stdout",
     "output_type": "stream",
     "text": [
      "Found 354 images belonging to 2 classes.\n"
     ]
    }
   ],
   "source": [
    "val_image_gen = image_gen.flow_from_directory(test,\n",
    "                                               target_size= (128,128),\n",
    "                                              \n",
    "                                               batch_size=batch_size,\n",
    "                                               class_mode='categorical',shuffle=False)"
   ]
  },
  {
   "cell_type": "code",
   "execution_count": 13,
   "metadata": {},
   "outputs": [
    {
     "name": "stdout",
     "output_type": "stream",
     "text": [
      "{'no pedestrian': 0, 'pedestrian': 1}\n",
      "{'no pedestrian': 0, 'pedestrian': 1}\n"
     ]
    }
   ],
   "source": [
    "print(train_image_gen.class_indices)\n",
    "Labels=train_image_gen.class_indices\n",
    "print(val_image_gen.class_indices)"
   ]
  },
  {
   "cell_type": "markdown",
   "metadata": {},
   "source": [
    "### Training the model 1"
   ]
  },
  {
   "cell_type": "code",
   "execution_count": 14,
   "metadata": {},
   "outputs": [
    {
     "name": "stdout",
     "output_type": "stream",
     "text": [
      "Epoch 1/20\n",
      "20/20 [==============================] - 133s 7s/step - loss: 0.6878 - accuracy: 0.5269 - val_loss: 0.6872 - val_accuracy: 0.6808\n",
      "Epoch 2/20\n",
      "20/20 [==============================] - 128s 6s/step - loss: 0.6830 - accuracy: 0.5729 - val_loss: 0.6634 - val_accuracy: 0.5339\n",
      "Epoch 3/20\n",
      "20/20 [==============================] - 130s 7s/step - loss: 0.6014 - accuracy: 0.6949 - val_loss: 0.6049 - val_accuracy: 0.6723\n",
      "Epoch 4/20\n",
      "20/20 [==============================] - 128s 6s/step - loss: 0.5171 - accuracy: 0.7409 - val_loss: 0.5357 - val_accuracy: 0.7203\n",
      "Epoch 5/20\n",
      "20/20 [==============================] - 124s 6s/step - loss: 0.5802 - accuracy: 0.7060 - val_loss: 0.5671 - val_accuracy: 0.6808\n",
      "Epoch 6/20\n",
      "20/20 [==============================] - 127s 6s/step - loss: 0.4965 - accuracy: 0.7615 - val_loss: 0.5028 - val_accuracy: 0.7373\n",
      "Epoch 7/20\n",
      "20/20 [==============================] - 132s 7s/step - loss: 0.4659 - accuracy: 0.7750 - val_loss: 0.4842 - val_accuracy: 0.7655\n",
      "Epoch 8/20\n",
      "20/20 [==============================] - 125s 6s/step - loss: 0.4606 - accuracy: 0.7853 - val_loss: 0.4904 - val_accuracy: 0.7684\n",
      "Epoch 9/20\n",
      "20/20 [==============================] - 125s 6s/step - loss: 0.4357 - accuracy: 0.7932 - val_loss: 0.5136 - val_accuracy: 0.7458\n",
      "Epoch 10/20\n",
      "20/20 [==============================] - 124s 6s/step - loss: 0.4346 - accuracy: 0.7821 - val_loss: 0.5580 - val_accuracy: 0.7232\n",
      "Epoch 11/20\n",
      "20/20 [==============================] - 125s 6s/step - loss: 0.4309 - accuracy: 0.7964 - val_loss: 0.4730 - val_accuracy: 0.7684\n",
      "Epoch 12/20\n",
      "20/20 [==============================] - 125s 6s/step - loss: 0.4332 - accuracy: 0.7964 - val_loss: 0.4753 - val_accuracy: 0.7486\n",
      "Epoch 13/20\n",
      "20/20 [==============================] - 126s 6s/step - loss: 0.4387 - accuracy: 0.7892 - val_loss: 0.4960 - val_accuracy: 0.7599\n",
      "Epoch 14/20\n",
      "20/20 [==============================] - 123s 6s/step - loss: 0.4452 - accuracy: 0.7773 - val_loss: 0.4665 - val_accuracy: 0.7486\n",
      "Epoch 15/20\n",
      "20/20 [==============================] - 124s 6s/step - loss: 0.4213 - accuracy: 0.8067 - val_loss: 0.5043 - val_accuracy: 0.7345\n",
      "Epoch 16/20\n",
      "20/20 [==============================] - 124s 6s/step - loss: 0.4349 - accuracy: 0.7853 - val_loss: 0.4762 - val_accuracy: 0.7542\n",
      "Epoch 17/20\n",
      "20/20 [==============================] - 123s 6s/step - loss: 0.4243 - accuracy: 0.8043 - val_loss: 0.4646 - val_accuracy: 0.7627\n",
      "Epoch 18/20\n",
      "20/20 [==============================] - 123s 6s/step - loss: 0.4072 - accuracy: 0.8027 - val_loss: 0.5140 - val_accuracy: 0.7288\n",
      "Epoch 19/20\n",
      "20/20 [==============================] - 122s 6s/step - loss: 0.4241 - accuracy: 0.8074 - val_loss: 0.4701 - val_accuracy: 0.7627\n",
      "Epoch 20/20\n",
      "20/20 [==============================] - 140s 7s/step - loss: 0.4088 - accuracy: 0.7995 - val_loss: 0.5184 - val_accuracy: 0.7740\n"
     ]
    }
   ],
   "source": [
    "\n",
    "results = model.fit(train_image_gen,epochs=20,\n",
    "                              validation_data=val_image_gen)"
   ]
  },
  {
   "cell_type": "markdown",
   "metadata": {},
   "source": [
    "### Predicting the validation dataset"
   ]
  },
  {
   "cell_type": "code",
   "execution_count": 17,
   "metadata": {},
   "outputs": [
    {
     "name": "stdout",
     "output_type": "stream",
     "text": [
      "6/6 [==============================] - 9s 1s/step\n"
     ]
    },
    {
     "data": {
      "text/plain": [
       "array([0, 0, 0, 0, 0, 0, 1, 0, 0, 0, 0, 0, 0, 0, 0, 0, 0, 0, 0, 0, 0, 0,\n",
       "       0, 0, 0, 0, 0, 1, 0, 0, 0, 0, 0, 1, 0, 1, 1, 0, 0, 0, 0, 0, 0, 1,\n",
       "       0, 1, 0, 0, 0, 0, 1, 0, 0, 0, 0, 0, 0, 0, 0, 0, 0, 0, 0, 0, 0, 0,\n",
       "       0, 1, 0, 0, 0, 0, 0, 0, 0, 0, 0, 0, 0, 0, 0, 0, 0, 0, 0, 0, 0, 0,\n",
       "       1, 0, 0, 1, 0, 0, 1, 0, 0, 1, 0, 1, 0, 0, 0, 1, 0, 0, 0, 0, 0, 0,\n",
       "       0, 1, 1, 0, 0, 1, 0, 0, 1, 0, 0, 0, 0, 1, 1, 0, 0, 0, 0, 0, 0, 0,\n",
       "       0, 0, 0, 0, 0, 0, 0, 0, 0, 0, 0, 0, 0, 0, 0, 0, 0, 0, 0, 0, 0, 0,\n",
       "       0, 1, 1, 0, 0, 0, 0, 0, 0, 0, 0, 0, 1, 1, 0, 0, 0, 0, 0, 0, 0, 0,\n",
       "       0, 1, 1, 1, 1, 0, 1, 1, 0, 0, 1, 1, 1, 0, 1, 1, 1, 1, 0, 1, 1, 1,\n",
       "       0, 0, 1, 1, 1, 0, 1, 0, 0, 1, 1, 1, 1, 1, 1, 1, 1, 1, 1, 0, 1, 1,\n",
       "       1, 1, 0, 1, 1, 0, 1, 1, 1, 1, 1, 0, 0, 0, 0, 0, 0, 0, 1, 1, 1, 1,\n",
       "       1, 1, 1, 0, 1, 0, 1, 1, 1, 1, 0, 0, 1, 1, 1, 1, 1, 1, 0, 0, 0, 0,\n",
       "       0, 1, 0, 1, 1, 0, 0, 1, 1, 1, 1, 0, 1, 1, 1, 1, 1, 1, 1, 1, 0, 0,\n",
       "       1, 1, 1, 1, 1, 1, 1, 1, 1, 1, 0, 1, 1, 1, 1, 0, 1, 1, 1, 1, 0, 1,\n",
       "       0, 0, 0, 0, 1, 1, 1, 1, 1, 1, 1, 0, 1, 0, 0, 0, 1, 1, 0, 1, 1, 1,\n",
       "       0, 1, 0, 1, 1, 1, 1, 0, 0, 1, 0, 0, 0, 1, 1, 1, 1, 1, 1, 1, 0, 1,\n",
       "       1, 0], dtype=int64)"
      ]
     },
     "execution_count": 17,
     "metadata": {},
     "output_type": "execute_result"
    }
   ],
   "source": [
    "predictions = np.argmax(model.predict(val_image_gen), axis = -1)\n",
    "predictions"
   ]
  },
  {
   "cell_type": "markdown",
   "metadata": {},
   "source": [
    "### Evaluating the model 1"
   ]
  },
  {
   "cell_type": "code",
   "execution_count": 18,
   "metadata": {},
   "outputs": [
    {
     "name": "stdout",
     "output_type": "stream",
     "text": [
      "              precision    recall  f1-score   support\n",
      "\n",
      "           0       0.73      0.86      0.79       177\n",
      "           1       0.83      0.68      0.75       177\n",
      "\n",
      "    accuracy                           0.77       354\n",
      "   macro avg       0.78      0.77      0.77       354\n",
      "weighted avg       0.78      0.77      0.77       354\n",
      "\n"
     ]
    }
   ],
   "source": [
    "from sklearn.metrics import classification_report, confusion_matrix\n",
    "print(classification_report(val_image_gen.classes,predictions))"
   ]
  },
  {
   "cell_type": "markdown",
   "metadata": {},
   "source": [
    "### Building the Convolutional neural network model 2"
   ]
  },
  {
   "cell_type": "code",
   "execution_count": 25,
   "metadata": {},
   "outputs": [
    {
     "name": "stdout",
     "output_type": "stream",
     "text": [
      "Model: \"sequential_3\"\n",
      "_________________________________________________________________\n",
      " Layer (type)                Output Shape              Param #   \n",
      "=================================================================\n",
      " conv2d_7 (Conv2D)           (None, 126, 126, 128)     3584      \n",
      "                                                                 \n",
      " conv2d_8 (Conv2D)           (None, 124, 124, 64)      73792     \n",
      "                                                                 \n",
      " max_pooling2d_5 (MaxPooling  (None, 62, 62, 64)       0         \n",
      " 2D)                                                             \n",
      "                                                                 \n",
      " dropout_6 (Dropout)         (None, 62, 62, 64)        0         \n",
      "                                                                 \n",
      " flatten_3 (Flatten)         (None, 246016)            0         \n",
      "                                                                 \n",
      " dense_6 (Dense)             (None, 64)                15745088  \n",
      "                                                                 \n",
      " dropout_7 (Dropout)         (None, 64)                0         \n",
      "                                                                 \n",
      " dense_7 (Dense)             (None, 2)                 130       \n",
      "                                                                 \n",
      "=================================================================\n",
      "Total params: 15,822,594\n",
      "Trainable params: 15,822,594\n",
      "Non-trainable params: 0\n",
      "_________________________________________________________________\n"
     ]
    }
   ],
   "source": [
    "import tensorflow as tf\n",
    "model = Sequential()\n",
    "model.add(Conv2D(filters=128, kernel_size=(3,3),input_shape=image_shape, activation='relu',))\n",
    "model.add(Conv2D(filters=64, kernel_size=(3,3),input_shape=image_shape, activation='relu',))\n",
    "model.add(MaxPooling2D(pool_size=(2, 2)))\n",
    "model.add(Dropout(0.2))\n",
    "model.add(Flatten())\n",
    "model.add(Dense(64, activation = 'relu'))\n",
    "model.add(Dropout(0.5))\n",
    "\n",
    "model.add(Dense(2, activation = 'sigmoid'))\n",
    "model.compile(loss='categorical_crossentropy',\n",
    "              optimizer=tf.keras.optimizers.Adam(lr=0.0001),\n",
    "              metrics=['accuracy'])\n",
    "model.summary()"
   ]
  },
  {
   "cell_type": "markdown",
   "metadata": {},
   "source": [
    "### Training the model 2"
   ]
  },
  {
   "cell_type": "code",
   "execution_count": 29,
   "metadata": {},
   "outputs": [
    {
     "name": "stdout",
     "output_type": "stream",
     "text": [
      "Epoch 1/12\n",
      "20/20 [==============================] - 136s 7s/step - loss: 0.5477 - accuracy: 0.7361 - val_loss: 0.5831 - val_accuracy: 0.6723\n",
      "Epoch 2/12\n",
      "20/20 [==============================] - 142s 7s/step - loss: 0.5346 - accuracy: 0.7504 - val_loss: 0.5473 - val_accuracy: 0.7345\n",
      "Epoch 3/12\n",
      "20/20 [==============================] - 135s 7s/step - loss: 0.5116 - accuracy: 0.7662 - val_loss: 0.5356 - val_accuracy: 0.7373\n",
      "Epoch 4/12\n",
      "20/20 [==============================] - 135s 7s/step - loss: 0.5064 - accuracy: 0.7662 - val_loss: 0.5280 - val_accuracy: 0.7514\n",
      "Epoch 5/12\n",
      "20/20 [==============================] - 138s 7s/step - loss: 0.4941 - accuracy: 0.7734 - val_loss: 0.5163 - val_accuracy: 0.7571\n",
      "Epoch 6/12\n",
      "20/20 [==============================] - 137s 7s/step - loss: 0.4959 - accuracy: 0.7789 - val_loss: 0.5897 - val_accuracy: 0.7119\n",
      "Epoch 7/12\n",
      "20/20 [==============================] - 136s 7s/step - loss: 0.4965 - accuracy: 0.7789 - val_loss: 0.5070 - val_accuracy: 0.7599\n",
      "Epoch 8/12\n",
      "20/20 [==============================] - 130s 7s/step - loss: 0.4665 - accuracy: 0.7916 - val_loss: 0.5205 - val_accuracy: 0.7034\n",
      "Epoch 9/12\n",
      "20/20 [==============================] - 135s 7s/step - loss: 0.4683 - accuracy: 0.7797 - val_loss: 0.5287 - val_accuracy: 0.7373\n",
      "Epoch 10/12\n",
      "20/20 [==============================] - 131s 7s/step - loss: 0.4579 - accuracy: 0.7900 - val_loss: 0.5085 - val_accuracy: 0.7599\n",
      "Epoch 11/12\n",
      "20/20 [==============================] - 136s 7s/step - loss: 0.4451 - accuracy: 0.7987 - val_loss: 0.5203 - val_accuracy: 0.7373\n",
      "Epoch 12/12\n",
      "20/20 [==============================] - 137s 7s/step - loss: 0.4399 - accuracy: 0.7956 - val_loss: 0.4979 - val_accuracy: 0.7429\n"
     ]
    }
   ],
   "source": [
    "results = model.fit(train_image_gen,epochs=12,\n",
    "                              validation_data=val_image_gen)"
   ]
  },
  {
   "cell_type": "markdown",
   "metadata": {},
   "source": [
    "### Doing the prediction over validation dataset"
   ]
  },
  {
   "cell_type": "code",
   "execution_count": 30,
   "metadata": {},
   "outputs": [
    {
     "name": "stdout",
     "output_type": "stream",
     "text": [
      "6/6 [==============================] - 9s 1s/step\n"
     ]
    },
    {
     "data": {
      "text/plain": [
       "array([0, 0, 0, 0, 0, 0, 0, 0, 1, 0, 0, 0, 0, 0, 0, 0, 1, 0, 0, 1, 0, 0,\n",
       "       0, 1, 0, 0, 0, 1, 0, 0, 0, 0, 0, 1, 0, 1, 1, 0, 0, 0, 0, 0, 0, 1,\n",
       "       0, 1, 0, 0, 0, 0, 1, 0, 0, 0, 0, 0, 0, 0, 1, 0, 0, 0, 0, 0, 0, 0,\n",
       "       0, 0, 0, 0, 1, 0, 0, 0, 1, 0, 0, 0, 0, 0, 1, 0, 0, 0, 0, 0, 1, 0,\n",
       "       1, 1, 0, 1, 0, 0, 0, 0, 1, 1, 0, 1, 0, 1, 1, 1, 0, 1, 0, 1, 1, 0,\n",
       "       0, 1, 1, 0, 0, 1, 0, 1, 1, 0, 0, 0, 0, 1, 1, 0, 0, 0, 0, 0, 0, 0,\n",
       "       1, 0, 0, 1, 0, 0, 0, 0, 0, 0, 0, 0, 0, 0, 1, 0, 0, 0, 0, 0, 0, 0,\n",
       "       0, 1, 0, 0, 0, 0, 1, 1, 0, 0, 0, 0, 1, 1, 0, 0, 1, 0, 0, 0, 0, 0,\n",
       "       0, 1, 1, 1, 1, 1, 1, 1, 0, 0, 1, 1, 1, 1, 1, 1, 1, 1, 0, 1, 1, 1,\n",
       "       0, 1, 1, 1, 1, 0, 1, 1, 0, 1, 1, 1, 0, 1, 1, 1, 1, 1, 1, 0, 1, 1,\n",
       "       1, 1, 0, 1, 1, 0, 1, 1, 1, 1, 1, 0, 0, 0, 0, 0, 0, 0, 1, 1, 1, 1,\n",
       "       0, 1, 1, 0, 1, 0, 1, 1, 1, 1, 1, 1, 1, 1, 1, 1, 1, 1, 0, 1, 1, 0,\n",
       "       0, 1, 1, 1, 1, 0, 0, 1, 1, 1, 1, 0, 1, 1, 1, 1, 1, 1, 1, 1, 1, 0,\n",
       "       1, 1, 1, 1, 1, 1, 1, 1, 1, 1, 0, 1, 1, 1, 1, 0, 1, 1, 1, 1, 1, 1,\n",
       "       0, 0, 0, 0, 1, 1, 1, 1, 1, 1, 1, 0, 1, 0, 0, 1, 1, 1, 0, 1, 1, 1,\n",
       "       1, 1, 1, 1, 1, 1, 1, 1, 0, 1, 0, 0, 0, 1, 1, 1, 1, 1, 1, 1, 1, 1,\n",
       "       1, 0], dtype=int64)"
      ]
     },
     "execution_count": 30,
     "metadata": {},
     "output_type": "execute_result"
    }
   ],
   "source": [
    "predictions = np.argmax(model.predict(val_image_gen), axis = -1)\n",
    "predictions"
   ]
  },
  {
   "cell_type": "markdown",
   "metadata": {},
   "source": [
    "### Evaluating performance of model 2"
   ]
  },
  {
   "cell_type": "code",
   "execution_count": 31,
   "metadata": {},
   "outputs": [
    {
     "name": "stdout",
     "output_type": "stream",
     "text": [
      "              precision    recall  f1-score   support\n",
      "\n",
      "           0       0.76      0.75      0.76       177\n",
      "           1       0.75      0.76      0.76       177\n",
      "\n",
      "    accuracy                           0.76       354\n",
      "   macro avg       0.76      0.76      0.76       354\n",
      "weighted avg       0.76      0.76      0.76       354\n",
      "\n"
     ]
    }
   ],
   "source": [
    "from sklearn.metrics import classification_report, confusion_matrix\n",
    "print(classification_report(val_image_gen.classes,predictions))"
   ]
  },
  {
   "cell_type": "code",
   "execution_count": null,
   "metadata": {},
   "outputs": [],
   "source": []
  },
  {
   "cell_type": "code",
   "execution_count": null,
   "metadata": {},
   "outputs": [],
   "source": []
  },
  {
   "cell_type": "code",
   "execution_count": null,
   "metadata": {},
   "outputs": [],
   "source": []
  },
  {
   "cell_type": "code",
   "execution_count": null,
   "metadata": {},
   "outputs": [],
   "source": []
  },
  {
   "cell_type": "code",
   "execution_count": null,
   "metadata": {},
   "outputs": [],
   "source": []
  },
  {
   "cell_type": "code",
   "execution_count": null,
   "metadata": {},
   "outputs": [],
   "source": []
  },
  {
   "cell_type": "code",
   "execution_count": null,
   "metadata": {},
   "outputs": [],
   "source": []
  },
  {
   "cell_type": "code",
   "execution_count": null,
   "metadata": {},
   "outputs": [],
   "source": []
  },
  {
   "cell_type": "code",
   "execution_count": null,
   "metadata": {},
   "outputs": [],
   "source": []
  },
  {
   "cell_type": "code",
   "execution_count": null,
   "metadata": {},
   "outputs": [],
   "source": []
  },
  {
   "cell_type": "code",
   "execution_count": null,
   "metadata": {},
   "outputs": [],
   "source": []
  },
  {
   "cell_type": "code",
   "execution_count": null,
   "metadata": {},
   "outputs": [],
   "source": []
  },
  {
   "cell_type": "code",
   "execution_count": null,
   "metadata": {},
   "outputs": [],
   "source": []
  },
  {
   "cell_type": "code",
   "execution_count": null,
   "metadata": {},
   "outputs": [],
   "source": []
  }
 ],
 "metadata": {
  "kernelspec": {
   "display_name": "Python 3 (ipykernel)",
   "language": "python",
   "name": "python3"
  },
  "language_info": {
   "codemirror_mode": {
    "name": "ipython",
    "version": 3
   },
   "file_extension": ".py",
   "mimetype": "text/x-python",
   "name": "python",
   "nbconvert_exporter": "python",
   "pygments_lexer": "ipython3",
   "version": "3.9.12"
  }
 },
 "nbformat": 4,
 "nbformat_minor": 4
}
